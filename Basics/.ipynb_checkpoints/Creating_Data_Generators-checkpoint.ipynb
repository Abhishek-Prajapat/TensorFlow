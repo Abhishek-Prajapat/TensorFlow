{
 "cells": [
  {
   "cell_type": "markdown",
   "id": "412f009f",
   "metadata": {},
   "source": [
    "# Creating Data Loaders/Generators"
   ]
  },
  {
   "cell_type": "code",
   "execution_count": 15,
   "id": "f4380428",
   "metadata": {},
   "outputs": [],
   "source": [
    "import numpy as np\n",
    "import tensorflow as tf\n",
    "import tensorflow.keras as keras\n",
    "\n",
    "from tensorflow.data import Dataset\n",
    "from tensorflow.keras import layers, Sequential, utils, optimizers, losses\n",
    "from tensorflow.keras.preprocessing.image import ImageDataGenerator\n",
    "\n",
    "from sklearn.datasets import make_classification\n",
    "from sklearn.model_selection import train_test_split"
   ]
  },
  {
   "cell_type": "code",
   "execution_count": 2,
   "id": "7cbe61a5",
   "metadata": {},
   "outputs": [],
   "source": [
    "x, y = make_classification(n_samples=10000, n_features=100, n_informative=30, n_classes=2, random_state=12)"
   ]
  },
  {
   "cell_type": "markdown",
   "id": "778cc76e",
   "metadata": {},
   "source": [
    "## Creating the dataset class"
   ]
  },
  {
   "cell_type": "code",
   "execution_count": 3,
   "id": "d11a5d39",
   "metadata": {},
   "outputs": [],
   "source": [
    "class SampleDataset(keras.utils.Sequence):\n",
    "    \n",
    "    def __init__(self, x, y, batch_size=32, shuffle=True):\n",
    "        self.shuffle = shuffle\n",
    "        self.batch_size = batch_size\n",
    "        self.x = x\n",
    "        self.y = y\n",
    "    \n",
    "    def __len__(self):\n",
    "        return len(x)\n",
    "    \n",
    "    def __getitem__(self, index):\n",
    "        x = self.x[index*self.batch_size : (index + 1)*self.batch_size]\n",
    "        y = self.y[index*self.batch_size : (index + 1)*self.batch_size]\n",
    "        return x, y"
   ]
  },
  {
   "cell_type": "code",
   "execution_count": 4,
   "id": "436a4bd0",
   "metadata": {},
   "outputs": [],
   "source": [
    "x_train, x_test, y_train, y_test = train_test_split(x, y, test_size=0.3)"
   ]
  },
  {
   "cell_type": "code",
   "execution_count": 5,
   "id": "72ef7161",
   "metadata": {},
   "outputs": [
    {
     "data": {
      "text/plain": [
       "((7000, 100), (3000, 100), (7000,), (3000,))"
      ]
     },
     "execution_count": 5,
     "metadata": {},
     "output_type": "execute_result"
    }
   ],
   "source": [
    "x_train.shape, x_test.shape, y_train.shape, y_test.shape"
   ]
  },
  {
   "cell_type": "code",
   "execution_count": 6,
   "id": "f8d2ebe8",
   "metadata": {},
   "outputs": [],
   "source": [
    "train_dataset = SampleDataset(x_train, y_train)\n",
    "test_dataset = SampleDataset(x_test, y_test)"
   ]
  },
  {
   "cell_type": "markdown",
   "id": "bab45c46",
   "metadata": {},
   "source": [
    "## Creating and training a simple model"
   ]
  },
  {
   "cell_type": "code",
   "execution_count": 7,
   "id": "1e3b7b22",
   "metadata": {},
   "outputs": [
    {
     "name": "stdout",
     "output_type": "stream",
     "text": [
      "WARNING:tensorflow:Please add `keras.layers.InputLayer` instead of `keras.Input` to Sequential model. `keras.Input` is intended to be used by Functional model.\n"
     ]
    }
   ],
   "source": [
    "model = Sequential(\n",
    "                [layers.Input(shape=(100, )),\n",
    "                layers.Dense(32, activation='relu'),\n",
    "                layers.Dense(16, activation='relu'),\n",
    "                layers.Dense(1)]\n",
    ")"
   ]
  },
  {
   "cell_type": "code",
   "execution_count": 8,
   "id": "62990b96",
   "metadata": {},
   "outputs": [
    {
     "name": "stdout",
     "output_type": "stream",
     "text": [
      "Model: \"sequential\"\n",
      "_________________________________________________________________\n",
      "Layer (type)                 Output Shape              Param #   \n",
      "=================================================================\n",
      "dense (Dense)                (None, 32)                3232      \n",
      "_________________________________________________________________\n",
      "dense_1 (Dense)              (None, 16)                528       \n",
      "_________________________________________________________________\n",
      "dense_2 (Dense)              (None, 1)                 17        \n",
      "=================================================================\n",
      "Total params: 3,777\n",
      "Trainable params: 3,777\n",
      "Non-trainable params: 0\n",
      "_________________________________________________________________\n"
     ]
    }
   ],
   "source": [
    "model.summary()"
   ]
  },
  {
   "cell_type": "code",
   "execution_count": 9,
   "id": "49543ef8",
   "metadata": {},
   "outputs": [],
   "source": [
    "optimizer = optimizers.Adam(learning_rate=1e-3)\n",
    "loss = losses.BinaryCrossentropy()\n",
    "\n",
    "model.compile(optimizer=optimizer, loss=loss, metrics=['acc'])"
   ]
  },
  {
   "cell_type": "code",
   "execution_count": 10,
   "id": "1aa027e7",
   "metadata": {},
   "outputs": [
    {
     "name": "stdout",
     "output_type": "stream",
     "text": [
      "Epoch 1/2\n",
      "10000/10000 [==============================] - 8s 716us/step - loss: 2.3347 - acc: 0.7791\n",
      "Epoch 2/2\n",
      "10000/10000 [==============================] - 7s 690us/step - loss: 1.2378 - acc: 0.8777\n"
     ]
    },
    {
     "data": {
      "text/plain": [
       "<tensorflow.python.keras.callbacks.History at 0x1a140a2aca0>"
      ]
     },
     "execution_count": 10,
     "metadata": {},
     "output_type": "execute_result"
    }
   ],
   "source": [
    "model.fit(train_dataset, epochs=2)"
   ]
  },
  {
   "cell_type": "code",
   "execution_count": 11,
   "id": "3f82149a",
   "metadata": {},
   "outputs": [
    {
     "name": "stdout",
     "output_type": "stream",
     "text": [
      "10000/10000 [==============================] - 6s 559us/step - loss: 2.6336 - acc: 0.7927\n"
     ]
    },
    {
     "data": {
      "text/plain": [
       "[2.633592128753662, 0.7926666736602783]"
      ]
     },
     "execution_count": 11,
     "metadata": {},
     "output_type": "execute_result"
    }
   ],
   "source": [
    "model.evaluate(test_dataset)"
   ]
  },
  {
   "cell_type": "markdown",
   "id": "b9e70896",
   "metadata": {},
   "source": [
    "## Using predefined functions"
   ]
  },
  {
   "cell_type": "code",
   "execution_count": 12,
   "id": "50135517",
   "metadata": {},
   "outputs": [],
   "source": [
    "def train_datagen():\n",
    "    for i in range(7000):\n",
    "        # img = Image.open(img_paths[idx])\n",
    "        # label = img_labels[idx]\n",
    "        img = x[i]\n",
    "        label = y[i]\n",
    "        yield img, label"
   ]
  },
  {
   "cell_type": "code",
   "execution_count": 13,
   "id": "2f3d0748",
   "metadata": {},
   "outputs": [],
   "source": [
    "train = Dataset.from_generator(train_datagen,\n",
    "                               output_signature = (tf.TensorSpec(shape=(100,), dtype=tf.float64),\n",
    "                               tf.TensorSpec(shape=(), dtype=tf.int32))).batch(32)"
   ]
  },
  {
   "cell_type": "code",
   "execution_count": 14,
   "id": "6d19d33c",
   "metadata": {},
   "outputs": [
    {
     "name": "stdout",
     "output_type": "stream",
     "text": [
      "Epoch 1/5\n",
      "219/219 [==============================] - 1s 4ms/step - loss: 1.3397 - acc: 0.8776\n",
      "Epoch 2/5\n",
      "219/219 [==============================] - 1s 4ms/step - loss: 0.8827 - acc: 0.9096\n",
      "Epoch 3/5\n",
      "219/219 [==============================] - 1s 4ms/step - loss: 0.7473 - acc: 0.9216\n",
      "Epoch 4/5\n",
      "219/219 [==============================] - 1s 4ms/step - loss: 0.6382 - acc: 0.9303\n",
      "Epoch 5/5\n",
      "219/219 [==============================] - 1s 4ms/step - loss: 0.5438 - acc: 0.9384\n"
     ]
    },
    {
     "data": {
      "text/plain": [
       "<tensorflow.python.keras.callbacks.History at 0x1a140b086a0>"
      ]
     },
     "execution_count": 14,
     "metadata": {},
     "output_type": "execute_result"
    }
   ],
   "source": [
    "model.fit(train, epochs=5)"
   ]
  },
  {
   "cell_type": "markdown",
   "id": "8a268581",
   "metadata": {},
   "source": [
    "## One more Method (One for all)"
   ]
  },
  {
   "cell_type": "markdown",
   "id": "f3a36892",
   "metadata": {},
   "source": [
    "If we have a dataframe containing the a column with the paths of the images we could use **ImageDataGenerator** to create a generetor which returns a batch of x and y with x being images and y being corresponding label.\n",
    "\n",
    "In case of multilabel classification you can pass a list of column names in the **y_col** parameter.\n",
    "Tutorial - <a href=\"https://vijayabhaskar96.medium.com/multi-label-image-classification-tutorial-with-keras-imagedatagenerator-cd541f8eaf24\">here</a>"
   ]
  },
  {
   "cell_type": "code",
   "execution_count": 18,
   "id": "99542c8f",
   "metadata": {},
   "outputs": [
    {
     "data": {
      "text/plain": [
       "<function tensorflow.python.keras.preprocessing.image.ImageDataGenerator.flow_from_dataframe(self, dataframe, directory=None, x_col='filename', y_col='class', weight_col=None, target_size=(256, 256), color_mode='rgb', classes=None, class_mode='categorical', batch_size=32, shuffle=True, seed=None, save_to_dir=None, save_prefix='', save_format='png', subset=None, interpolation='nearest', validate_filenames=True, **kwargs)>"
      ]
     },
     "execution_count": 18,
     "metadata": {},
     "output_type": "execute_result"
    }
   ],
   "source": [
    "ImageDataGenerator.flow_from_dataframe"
   ]
  }
 ],
 "metadata": {
  "kernelspec": {
   "display_name": "Python 3",
   "language": "python",
   "name": "python3"
  },
  "language_info": {
   "codemirror_mode": {
    "name": "ipython",
    "version": 3
   },
   "file_extension": ".py",
   "mimetype": "text/x-python",
   "name": "python",
   "nbconvert_exporter": "python",
   "pygments_lexer": "ipython3",
   "version": "3.8.5"
  },
  "toc": {
   "base_numbering": 1,
   "nav_menu": {},
   "number_sections": true,
   "sideBar": true,
   "skip_h1_title": false,
   "title_cell": "Table of Contents",
   "title_sidebar": "Contents",
   "toc_cell": false,
   "toc_position": {},
   "toc_section_display": true,
   "toc_window_display": false
  }
 },
 "nbformat": 4,
 "nbformat_minor": 5
}
